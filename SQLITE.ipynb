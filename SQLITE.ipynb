{
  "nbformat": 4,
  "nbformat_minor": 0,
  "metadata": {
    "colab": {
      "provenance": [],
      "authorship_tag": "ABX9TyMxjz3M+CYrpHpPQdoWd55Z",
      "include_colab_link": true
    },
    "kernelspec": {
      "name": "python3",
      "display_name": "Python 3"
    },
    "language_info": {
      "name": "python"
    }
  },
  "cells": [
    {
      "cell_type": "markdown",
      "metadata": {
        "id": "view-in-github",
        "colab_type": "text"
      },
      "source": [
        "<a href=\"https://colab.research.google.com/github/angelzhangg/sqlite_dataexploration/blob/main/SQLITE.ipynb\" target=\"_parent\"><img src=\"https://colab.research.google.com/assets/colab-badge.svg\" alt=\"Open In Colab\"/></a>"
      ]
    },
    {
      "cell_type": "code",
      "source": [
        "import pandas as pd\n",
        "import sqlite3"
      ],
      "metadata": {
        "id": "AwSvnKy5TJ5T"
      },
      "execution_count": 2,
      "outputs": []
    },
    {
      "cell_type": "code",
      "source": [
        "# Load dataset\n",
        "df = pd.read_csv('https://data-lakecountyil.opendata.arcgis.com/api/download/v1/items/3e0c1eb04e5c48b3be9040b0589d3ccf/csv?layers=8')\n",
        "print(df)\n",
        "print(df.columns)"
      ],
      "metadata": {
        "colab": {
          "base_uri": "https://localhost:8080/"
        },
        "id": "GqHhl0-JTczX",
        "outputId": "1188b437-36bc-418c-d196-dc886bb728ce"
      },
      "execution_count": 3,
      "outputs": [
        {
          "output_type": "stream",
          "name": "stdout",
          "text": [
            "    OBJECTID                  NAME  Obesity   Shape__Area  Shape__Length\n",
            "0          1                 Texas     32.4  7.672329e+12   1.540832e+07\n",
            "1          2            California     24.2  5.327809e+12   1.451870e+07\n",
            "2          3              Kentucky     34.6  1.128830e+12   6.346699e+06\n",
            "3          4               Georgia     30.7  1.652980e+12   5.795596e+06\n",
            "4          5             Wisconsin     30.7  1.567816e+12   6.806782e+06\n",
            "5          6                Oregon     30.1  3.178446e+12   7.976011e+06\n",
            "6          7              Virginia     29.2  1.158804e+12   7.710804e+06\n",
            "7          8             Tennessee     33.8  1.177054e+12   6.350377e+06\n",
            "8          9             Louisiana     36.2  1.355094e+12   7.383857e+06\n",
            "9         10              New York     25.0  1.411441e+12   7.981383e+06\n",
            "10        11              Michigan     31.2  1.657222e+12   1.240799e+07\n",
            "11        12                 Idaho     28.6  2.593598e+12   9.081125e+06\n",
            "12        13               Florida     26.8  1.674411e+12   1.053393e+07\n",
            "13        14                Alaska     29.8  5.301139e+11   6.663727e+06\n",
            "14        15               Montana     23.6  4.371466e+12   9.745472e+06\n",
            "15        16             Minnesota     26.1  2.367875e+12   8.530250e+06\n",
            "16        17              Nebraska     31.4  2.207444e+12   6.921600e+06\n",
            "17        18            Washington     26.4  2.214215e+12   7.508967e+06\n",
            "18        19                  Ohio     29.8  1.158016e+12   5.015485e+06\n",
            "19        20              Illinois     30.8  1.571568e+12   6.172531e+06\n",
            "20        21              Missouri     32.4  1.949021e+12   7.165633e+06\n",
            "21        22                  Iowa     32.1  1.575589e+12   5.558145e+06\n",
            "22        23          South Dakota     30.4  2.199053e+12   6.680911e+06\n",
            "23        24              Arkansas     34.5  1.488699e+12   5.707634e+06\n",
            "24        25           Mississippi     35.6  1.327853e+12   5.834202e+06\n",
            "25        26              Colorado     20.2  3.066879e+12   7.092296e+06\n",
            "26        27        North Carolina     30.1  1.495756e+12   6.714056e+06\n",
            "27        28                  Utah     24.5  2.614281e+12   6.798973e+06\n",
            "28        29              Oklahoma     33.9  1.982449e+12   7.857120e+06\n",
            "29        30               Wyoming     29.0  2.897400e+12   6.860971e+06\n",
            "30        31         West Virginia     35.6  6.851674e+11   5.374280e+06\n",
            "31        32               Indiana     31.3  1.010364e+12   4.858882e+06\n",
            "32        33         Massachusetts     24.3  2.472250e+11   4.197218e+06\n",
            "33        34                Nevada     26.7  3.564354e+12   8.240795e+06\n",
            "34        35           Connecticut     25.3  1.454219e+11   1.780631e+06\n",
            "35        36  District of Columbia     22.1  1.972102e+09   2.003250e+05\n",
            "36        37          Rhode Island     26.0  3.617808e+10   9.845246e+05\n",
            "37        38               Alabama     35.6  1.442807e+12   5.750658e+06\n",
            "38        39           Puerto Rico     29.5  1.147839e+11   2.136273e+06\n",
            "39        40        South Carolina     31.7  8.782704e+11   4.370941e+06\n",
            "40        41                 Maine     30.0  9.903849e+11   5.560035e+06\n",
            "41        42                Hawaii     22.7           NaN            NaN\n",
            "42        43               Arizona     28.4  3.562686e+12   8.044184e+06\n",
            "43        44            New Mexico     28.8  3.622933e+12   8.075167e+06\n",
            "44        45              Maryland     28.9  3.039432e+11   5.850363e+06\n",
            "45        46              Delaware     29.7  5.908110e+10   1.383604e+06\n",
            "46        47          Pennsylvania     30.0  1.288452e+12   5.024348e+06\n",
            "47        48                Kansas     34.2  2.340366e+12   6.540498e+06\n",
            "48        49               Vermont     25.1  2.789313e+11   2.653732e+06\n",
            "49        50            New Jersey     25.6  2.246065e+11   2.599119e+06\n",
            "50        51          North Dakota     31.0  2.013152e+12   5.872756e+06\n",
            "51        52         New Hampshire     26.3  2.705294e+11   2.674767e+06\n",
            "Index(['OBJECTID', 'NAME', 'Obesity', 'Shape__Area', 'Shape__Length'], dtype='object')\n"
          ]
        }
      ]
    },
    {
      "cell_type": "code",
      "source": [
        "# Create SQLite database\n",
        "conn = sqlite3.connect('healthcare.db')"
      ],
      "metadata": {
        "id": "f1NzQwbFUcSe"
      },
      "execution_count": 4,
      "outputs": []
    },
    {
      "cell_type": "code",
      "source": [
        "# Load dataframe into SQLite\n",
        "df.to_sql('health_data', conn, if_exists='replace', index=False)"
      ],
      "metadata": {
        "colab": {
          "base_uri": "https://localhost:8080/"
        },
        "id": "ucBKZC3FUgaR",
        "outputId": "cca24d75-1b01-40a9-8981-400ccc22b41d"
      },
      "execution_count": 5,
      "outputs": [
        {
          "output_type": "execute_result",
          "data": {
            "text/plain": [
              "52"
            ]
          },
          "metadata": {},
          "execution_count": 5
        }
      ]
    },
    {
      "cell_type": "code",
      "source": [
        "# Query 1 Select all records from the column \"NAMES\" AND \"OBESITY\"\n",
        "query_1 = \"SELECT NAME, OBESITY FROM health_data\"\n",
        "result_df = pd.read_sql(query_1, conn)\n",
        "print(result_df)"
      ],
      "metadata": {
        "colab": {
          "base_uri": "https://localhost:8080/"
        },
        "id": "ULxYqRnJWOvK",
        "outputId": "2ce896ee-c82b-4986-acf5-b3c3b74cb4e4"
      },
      "execution_count": 6,
      "outputs": [
        {
          "output_type": "stream",
          "name": "stdout",
          "text": [
            "                    NAME  Obesity\n",
            "0                  Texas     32.4\n",
            "1             California     24.2\n",
            "2               Kentucky     34.6\n",
            "3                Georgia     30.7\n",
            "4              Wisconsin     30.7\n",
            "5                 Oregon     30.1\n",
            "6               Virginia     29.2\n",
            "7              Tennessee     33.8\n",
            "8              Louisiana     36.2\n",
            "9               New York     25.0\n",
            "10              Michigan     31.2\n",
            "11                 Idaho     28.6\n",
            "12               Florida     26.8\n",
            "13                Alaska     29.8\n",
            "14               Montana     23.6\n",
            "15             Minnesota     26.1\n",
            "16              Nebraska     31.4\n",
            "17            Washington     26.4\n",
            "18                  Ohio     29.8\n",
            "19              Illinois     30.8\n",
            "20              Missouri     32.4\n",
            "21                  Iowa     32.1\n",
            "22          South Dakota     30.4\n",
            "23              Arkansas     34.5\n",
            "24           Mississippi     35.6\n",
            "25              Colorado     20.2\n",
            "26        North Carolina     30.1\n",
            "27                  Utah     24.5\n",
            "28              Oklahoma     33.9\n",
            "29               Wyoming     29.0\n",
            "30         West Virginia     35.6\n",
            "31               Indiana     31.3\n",
            "32         Massachusetts     24.3\n",
            "33                Nevada     26.7\n",
            "34           Connecticut     25.3\n",
            "35  District of Columbia     22.1\n",
            "36          Rhode Island     26.0\n",
            "37               Alabama     35.6\n",
            "38           Puerto Rico     29.5\n",
            "39        South Carolina     31.7\n",
            "40                 Maine     30.0\n",
            "41                Hawaii     22.7\n",
            "42               Arizona     28.4\n",
            "43            New Mexico     28.8\n",
            "44              Maryland     28.9\n",
            "45              Delaware     29.7\n",
            "46          Pennsylvania     30.0\n",
            "47                Kansas     34.2\n",
            "48               Vermont     25.1\n",
            "49            New Jersey     25.6\n",
            "50          North Dakota     31.0\n",
            "51         New Hampshire     26.3\n"
          ]
        }
      ]
    },
    {
      "cell_type": "code",
      "source": [
        "# Query 2 Count number of records for certain condition, Count the number of records showing OBESITY RATES OF 30 AND HIGHER\n",
        "query_2 = 'SELECT NAME, OBESITY FROM health_data WHERE OBESITY > 25'\n",
        "result_df = pd.read_sql(query_2, conn)\n",
        "print(result_df)"
      ],
      "metadata": {
        "colab": {
          "base_uri": "https://localhost:8080/"
        },
        "id": "BmaRt_s5e1uf",
        "outputId": "ff108b05-222d-428c-ab84-ae5604546726"
      },
      "execution_count": 7,
      "outputs": [
        {
          "output_type": "stream",
          "name": "stdout",
          "text": [
            "              NAME  Obesity\n",
            "0            Texas     32.4\n",
            "1         Kentucky     34.6\n",
            "2          Georgia     30.7\n",
            "3        Wisconsin     30.7\n",
            "4           Oregon     30.1\n",
            "5         Virginia     29.2\n",
            "6        Tennessee     33.8\n",
            "7        Louisiana     36.2\n",
            "8         Michigan     31.2\n",
            "9            Idaho     28.6\n",
            "10         Florida     26.8\n",
            "11          Alaska     29.8\n",
            "12       Minnesota     26.1\n",
            "13        Nebraska     31.4\n",
            "14      Washington     26.4\n",
            "15            Ohio     29.8\n",
            "16        Illinois     30.8\n",
            "17        Missouri     32.4\n",
            "18            Iowa     32.1\n",
            "19    South Dakota     30.4\n",
            "20        Arkansas     34.5\n",
            "21     Mississippi     35.6\n",
            "22  North Carolina     30.1\n",
            "23        Oklahoma     33.9\n",
            "24         Wyoming     29.0\n",
            "25   West Virginia     35.6\n",
            "26         Indiana     31.3\n",
            "27          Nevada     26.7\n",
            "28     Connecticut     25.3\n",
            "29    Rhode Island     26.0\n",
            "30         Alabama     35.6\n",
            "31     Puerto Rico     29.5\n",
            "32  South Carolina     31.7\n",
            "33           Maine     30.0\n",
            "34         Arizona     28.4\n",
            "35      New Mexico     28.8\n",
            "36        Maryland     28.9\n",
            "37        Delaware     29.7\n",
            "38    Pennsylvania     30.0\n",
            "39          Kansas     34.2\n",
            "40         Vermont     25.1\n",
            "41      New Jersey     25.6\n",
            "42    North Dakota     31.0\n",
            "43   New Hampshire     26.3\n"
          ]
        }
      ]
    },
    {
      "cell_type": "code",
      "source": [
        "# Query 3 Group the data by a specific column and ROW\n",
        "query_3 = \"\"\"\n",
        "SELECT NAME, (OBESITY) AS average_obesity\n",
        "FROM health_data\n",
        "WHERE NAME in (\"Florida\", \"Arizona\")\n",
        "\"\"\"\n",
        "result_df = pd.read_sql(query_3, conn)\n",
        "print(result_df)"
      ],
      "metadata": {
        "colab": {
          "base_uri": "https://localhost:8080/"
        },
        "id": "eU0lJRo0fvMJ",
        "outputId": "96208f6d-b323-4991-d6e5-31c7f7075809"
      },
      "execution_count": 8,
      "outputs": [
        {
          "output_type": "stream",
          "name": "stdout",
          "text": [
            "      NAME  average_obesity\n",
            "0  Florida             26.8\n",
            "1  Arizona             28.4\n"
          ]
        }
      ]
    },
    {
      "cell_type": "code",
      "source": [
        "# Query 4: Sort the records based on the top 5 OBESITY RATES\n",
        "query_4 = \"\"\"\n",
        "SELECT NAME, OBESITY\n",
        "FROM health_data\n",
        "ORDER BY OBESITY DESC\n",
        "LIMIT 5;\n",
        "\"\"\"\n",
        "result_df = pd.read_sql(query_4, conn)\n",
        "print(result_df)"
      ],
      "metadata": {
        "colab": {
          "base_uri": "https://localhost:8080/"
        },
        "id": "R_G9oE6giNZn",
        "outputId": "28b15213-bba5-4f92-949c-996e632252f6"
      },
      "execution_count": 87,
      "outputs": [
        {
          "output_type": "stream",
          "name": "stdout",
          "text": [
            "            NAME  Obesity\n",
            "0      Louisiana     36.2\n",
            "1    Mississippi     35.6\n",
            "2  West Virginia     35.6\n",
            "3        Alabama     35.6\n",
            "4       Kentucky     34.6\n"
          ]
        }
      ]
    },
    {
      "cell_type": "code",
      "source": [
        "# Closing the connection\n",
        "conn.close()"
      ],
      "metadata": {
        "id": "xSkBz9ATjGKH"
      },
      "execution_count": 88,
      "outputs": []
    }
  ]
}